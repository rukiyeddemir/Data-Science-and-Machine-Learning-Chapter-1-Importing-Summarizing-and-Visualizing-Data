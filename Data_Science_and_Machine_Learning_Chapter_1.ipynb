{
  "nbformat": 4,
  "nbformat_minor": 0,
  "metadata": {
    "colab": {
      "provenance": []
    },
    "kernelspec": {
      "name": "python3",
      "display_name": "Python 3"
    },
    "language_info": {
      "name": "python"
    }
  },
  "cells": [
    {
      "cell_type": "markdown",
      "source": [
        "## **Data Science and Machine Learning**\n",
        "\n",
        "---\n",
        "\n",
        "\n",
        "#### **CHAPTER 1: IMPORTING, SUMMARIZING, AND VISUALIZING DATA**\n",
        "This chapter describes where to find useful data sets, how to load them into Python,\n",
        "and how to (re)structure the data. We also discuss various ways in which the data can\n",
        "be summarized via tables and figures. Which type of plots and numerical summaries\n",
        "are appropriate depends on the type of the variable(s) in play."
      ],
      "metadata": {
        "id": "5wNm9QBF6zUp"
      }
    },
    {
      "cell_type": "markdown",
      "source": [
        "**1.1 Introduction**\n",
        "\n",
        "Data can be seen as the result of a random experiment, where the outcome is unpredictable but still analyzable. Typically, data is organized in tables with variables (features) as columns and individual items as rows. Three main types of columns exist: an identifier or index column, design-related features (deterministic), and observed measurements (variable)."
      ],
      "metadata": {
        "id": "1maEHoYo7cFI"
      }
    },
    {
      "cell_type": "markdown",
      "source": [
        "Various data sets are available online, including at the UCI Machine Learning Repository. Data sets are often stored in CSV format, which is easily readable in Python using the pandas package."
      ],
      "metadata": {
        "id": "rscpsvAw7ztV"
      }
    },
    {
      "cell_type": "code",
      "source": [
        "import pandas as pd\n",
        "\n",
        "abalone = pd.read_csv('abalone.data',header = None)"
      ],
      "metadata": {
        "id": "llNy29mw8J6K"
      },
      "execution_count": null,
      "outputs": []
    },
    {
      "cell_type": "markdown",
      "source": [
        "It is important to add *header = None*, as this lets Python know that the first line of the\n",
        "CSV does not contain the names of the features, as it assumes so by default. The data set\n",
        "was originally used to predict the age of abalone from physical measurements, such as\n",
        "shell weight and diameter.\n"
      ],
      "metadata": {
        "id": "rFklU07r8dw_"
      }
    },
    {
      "cell_type": "markdown",
      "source": [
        "Another useful repository of over 1000 data sets from various packages in the R programming language, collected by Vincent Arel-Bundock, can be found at:\n",
        "https://vincentarelbundock.github.io/Rdatasets/datasets.html"
      ],
      "metadata": {
        "id": "E8USepvP8qHS"
      }
    },
    {
      "cell_type": "code",
      "source": [
        "urlprefix = 'https://vincentarelbundock.github.io/Rdatasets/csv/'\n",
        "dataname = 'datasets/iris.csv'\n",
        "iris = pd. read_csv ( urlprefix + dataname )"
      ],
      "metadata": {
        "id": "3X8jSsDK8x5w"
      },
      "execution_count": null,
      "outputs": []
    },
    {
      "cell_type": "markdown",
      "source": [
        "The **iris** data set contains four physical measurements (sepal/petal length/width) on\n",
        "50 specimens (each) of 3 species of iris: setosa, versicolor, and virginica. Note that in this\n",
        "case the headers are included. The output of **read_csv** is a DataFrame object, which is **pandas**’s implementation of a spreadsheet. The DataFrame method\n",
        "head gives the first few rows of the DataFrame, including the feature names. The number\n",
        "of rows can be passed as an argument and is 5 by default."
      ],
      "metadata": {
        "id": "t2mVzaS_8-oY"
      }
    },
    {
      "cell_type": "markdown",
      "source": [
        "The names of the features can be obtained via the *columns* attribute of the *DataFrame*\n",
        "object, as in iris.columns. Note that the first column is a duplicate index column, whose\n",
        "name (assigned by **pandas**) is 'Index Column'. We can drop this column and reassign the\n",
        "iris object as follows."
      ],
      "metadata": {
        "id": "ARQcKu2J9VE_"
      }
    },
    {
      "cell_type": "code",
      "source": [
        "iris = iris.reset_index(drop=True)\n",
        "iris = iris.set_index('rownames')\n"
      ],
      "metadata": {
        "id": "AyAWRiki9elv"
      },
      "execution_count": null,
      "outputs": []
    },
    {
      "cell_type": "markdown",
      "source": [
        "The data for each feature (corresponding to its specific name) can be accessed by using\n",
        "Python’s *slicing* notation [  ]. For example, the object `iris[’Sepal.Length’]` contains\n",
        "the 150 sepal lengths.\n"
      ],
      "metadata": {
        "id": "2Miw83qM9ySP"
      }
    },
    {
      "cell_type": "markdown",
      "source": [
        "The first three rows of the **abalone** data set from the UCI repository can be found as\n",
        "follows:"
      ],
      "metadata": {
        "id": "iTwV9QNVqKHr"
      }
    },
    {
      "cell_type": "code",
      "source": [
        "abalone.head (3)"
      ],
      "metadata": {
        "id": "FYqVe8bq-Ljv"
      },
      "execution_count": null,
      "outputs": []
    },
    {
      "cell_type": "markdown",
      "source": [
        "Here, the missing headers have been assigned according to the order of the natural\n",
        "numbers. The names should correspond to Sex, Length, Diameter, Height, Whole weight,\n",
        "Shucked weight, Viscera weight, Shell weight, and Rings, as described in the file with the\n",
        "name abalone.names on the UCI website. We can manually add the names of the features\n",
        "to the DataFrame by reassigning the columns attribute."
      ],
      "metadata": {
        "id": "ySKoTllp-hxn"
      }
    },
    {
      "cell_type": "code",
      "source": [
        "abalone.columns = ['Sex', 'Length', 'Diameter', 'Height',\n",
        "'Whole weight','Shucked weight', 'Viscera weight', 'Shell weight',\n",
        "'Rings']"
      ],
      "metadata": {
        "id": "Je0aU_cW-naP"
      },
      "execution_count": null,
      "outputs": []
    },
    {
      "cell_type": "markdown",
      "source": [
        "**1.2 Structuring Features According to Type**\n",
        "\n",
        "We can generally classify features as either quantitative or qualitative. *Quantitative* features possess “numerical quantity”, such as height, age, number of births, etc., and can either be\n",
        "*continuous or discrete*. Continuous quantitative features take values in a continuous range\n",
        "of possible values, such as height, voltage, or crop yield; such features capture the idea\n",
        "that measurements can always be made more precisely. Discrete quantitative features have\n",
        "a countable number of possibilities, such as a count.\n"
      ],
      "metadata": {
        "id": "eAZuFll4-0Gv"
      }
    },
    {
      "cell_type": "markdown",
      "source": [
        "In contrast, *qualitative* features do not have a numerical meaning, but their possible values can be divided into a fixed number of categories, such as {M,F} for gender or {blue,\n",
        "black, brown, green} for eye color. For this reason such features are also called *categorical*.\n",
        "A simple rule of thumb is: if it does not make sense to average the data, it is categorical.\n",
        "For example, it does not make sense to average eye colors. Of course it is still possible to\n",
        "represent categorical data with numbers, such as 1 = blue, 2 = black, 3 = brown, but such\n",
        "numbers carry no quantitative meaning. Categorical features are often called *factors*."
      ],
      "metadata": {
        "id": "eUAdOTkxBKbc"
      }
    },
    {
      "cell_type": "markdown",
      "source": [
        "When manipulating, summarizing, and displaying data, it is important to correctly specify the type of the variables (features). We illustrate this using the `nutrition_elderly`\n",
        "data set from [73], which contains the results of a study involving nutritional measurements of thirteen features (columns) for 226 elderly individuals (rows). The data set can be\n",
        "obtained from:\n",
        "http://www.biostatisticien.eu/springeR/nutrition_elderly.xls"
      ],
      "metadata": {
        "id": "67AedqnjBy2n"
      }
    },
    {
      "cell_type": "code",
      "source": [
        "xls = 'http://www.biostatisticien.eu/springeR/nutrition_elderly.xls'\n",
        "nutri = pd.read_excel (xls)"
      ],
      "metadata": {
        "id": "8qMCp8puCIvX"
      },
      "execution_count": null,
      "outputs": []
    },
    {
      "cell_type": "markdown",
      "source": [
        "This creates a DataFrame object nutri. The first three rows are as follows\n"
      ],
      "metadata": {
        "id": "ZFuhElQgCKdZ"
      }
    },
    {
      "cell_type": "code",
      "source": [
        "pd.set_option ('display.max_columns', 8) # to fit display\n",
        "nutri.head (3)"
      ],
      "metadata": {
        "id": "Pvii0ox6CLbq",
        "colab": {
          "base_uri": "https://localhost:8080/",
          "height": 173
        },
        "outputId": "e2efedac-813c-430e-bfc7-805b2ca61a3d"
      },
      "execution_count": null,
      "outputs": [
        {
          "output_type": "execute_result",
          "data": {
            "text/plain": [
              "   gender  situation  tea  coffee  ...  raw_fruit  cooked_fruit_veg  chocol  \\\n",
              "0       2          1    0       0  ...          1                 4       5   \n",
              "1       2          1    1       1  ...          5                 5       1   \n",
              "2       2          1    0       4  ...          5                 2       5   \n",
              "\n",
              "   fat  \n",
              "0    6  \n",
              "1    4  \n",
              "2    4  \n",
              "\n",
              "[3 rows x 13 columns]"
            ],
            "text/html": [
              "\n",
              "  <div id=\"df-89d96c53-88fb-490c-b795-b546475c9848\" class=\"colab-df-container\">\n",
              "    <div>\n",
              "<style scoped>\n",
              "    .dataframe tbody tr th:only-of-type {\n",
              "        vertical-align: middle;\n",
              "    }\n",
              "\n",
              "    .dataframe tbody tr th {\n",
              "        vertical-align: top;\n",
              "    }\n",
              "\n",
              "    .dataframe thead th {\n",
              "        text-align: right;\n",
              "    }\n",
              "</style>\n",
              "<table border=\"1\" class=\"dataframe\">\n",
              "  <thead>\n",
              "    <tr style=\"text-align: right;\">\n",
              "      <th></th>\n",
              "      <th>gender</th>\n",
              "      <th>situation</th>\n",
              "      <th>tea</th>\n",
              "      <th>coffee</th>\n",
              "      <th>...</th>\n",
              "      <th>raw_fruit</th>\n",
              "      <th>cooked_fruit_veg</th>\n",
              "      <th>chocol</th>\n",
              "      <th>fat</th>\n",
              "    </tr>\n",
              "  </thead>\n",
              "  <tbody>\n",
              "    <tr>\n",
              "      <th>0</th>\n",
              "      <td>2</td>\n",
              "      <td>1</td>\n",
              "      <td>0</td>\n",
              "      <td>0</td>\n",
              "      <td>...</td>\n",
              "      <td>1</td>\n",
              "      <td>4</td>\n",
              "      <td>5</td>\n",
              "      <td>6</td>\n",
              "    </tr>\n",
              "    <tr>\n",
              "      <th>1</th>\n",
              "      <td>2</td>\n",
              "      <td>1</td>\n",
              "      <td>1</td>\n",
              "      <td>1</td>\n",
              "      <td>...</td>\n",
              "      <td>5</td>\n",
              "      <td>5</td>\n",
              "      <td>1</td>\n",
              "      <td>4</td>\n",
              "    </tr>\n",
              "    <tr>\n",
              "      <th>2</th>\n",
              "      <td>2</td>\n",
              "      <td>1</td>\n",
              "      <td>0</td>\n",
              "      <td>4</td>\n",
              "      <td>...</td>\n",
              "      <td>5</td>\n",
              "      <td>2</td>\n",
              "      <td>5</td>\n",
              "      <td>4</td>\n",
              "    </tr>\n",
              "  </tbody>\n",
              "</table>\n",
              "<p>3 rows × 13 columns</p>\n",
              "</div>\n",
              "    <div class=\"colab-df-buttons\">\n",
              "\n",
              "  <div class=\"colab-df-container\">\n",
              "    <button class=\"colab-df-convert\" onclick=\"convertToInteractive('df-89d96c53-88fb-490c-b795-b546475c9848')\"\n",
              "            title=\"Convert this dataframe to an interactive table.\"\n",
              "            style=\"display:none;\">\n",
              "\n",
              "  <svg xmlns=\"http://www.w3.org/2000/svg\" height=\"24px\" viewBox=\"0 -960 960 960\">\n",
              "    <path d=\"M120-120v-720h720v720H120Zm60-500h600v-160H180v160Zm220 220h160v-160H400v160Zm0 220h160v-160H400v160ZM180-400h160v-160H180v160Zm440 0h160v-160H620v160ZM180-180h160v-160H180v160Zm440 0h160v-160H620v160Z\"/>\n",
              "  </svg>\n",
              "    </button>\n",
              "\n",
              "  <style>\n",
              "    .colab-df-container {\n",
              "      display:flex;\n",
              "      gap: 12px;\n",
              "    }\n",
              "\n",
              "    .colab-df-convert {\n",
              "      background-color: #E8F0FE;\n",
              "      border: none;\n",
              "      border-radius: 50%;\n",
              "      cursor: pointer;\n",
              "      display: none;\n",
              "      fill: #1967D2;\n",
              "      height: 32px;\n",
              "      padding: 0 0 0 0;\n",
              "      width: 32px;\n",
              "    }\n",
              "\n",
              "    .colab-df-convert:hover {\n",
              "      background-color: #E2EBFA;\n",
              "      box-shadow: 0px 1px 2px rgba(60, 64, 67, 0.3), 0px 1px 3px 1px rgba(60, 64, 67, 0.15);\n",
              "      fill: #174EA6;\n",
              "    }\n",
              "\n",
              "    .colab-df-buttons div {\n",
              "      margin-bottom: 4px;\n",
              "    }\n",
              "\n",
              "    [theme=dark] .colab-df-convert {\n",
              "      background-color: #3B4455;\n",
              "      fill: #D2E3FC;\n",
              "    }\n",
              "\n",
              "    [theme=dark] .colab-df-convert:hover {\n",
              "      background-color: #434B5C;\n",
              "      box-shadow: 0px 1px 3px 1px rgba(0, 0, 0, 0.15);\n",
              "      filter: drop-shadow(0px 1px 2px rgba(0, 0, 0, 0.3));\n",
              "      fill: #FFFFFF;\n",
              "    }\n",
              "  </style>\n",
              "\n",
              "    <script>\n",
              "      const buttonEl =\n",
              "        document.querySelector('#df-89d96c53-88fb-490c-b795-b546475c9848 button.colab-df-convert');\n",
              "      buttonEl.style.display =\n",
              "        google.colab.kernel.accessAllowed ? 'block' : 'none';\n",
              "\n",
              "      async function convertToInteractive(key) {\n",
              "        const element = document.querySelector('#df-89d96c53-88fb-490c-b795-b546475c9848');\n",
              "        const dataTable =\n",
              "          await google.colab.kernel.invokeFunction('convertToInteractive',\n",
              "                                                    [key], {});\n",
              "        if (!dataTable) return;\n",
              "\n",
              "        const docLinkHtml = 'Like what you see? Visit the ' +\n",
              "          '<a target=\"_blank\" href=https://colab.research.google.com/notebooks/data_table.ipynb>data table notebook</a>'\n",
              "          + ' to learn more about interactive tables.';\n",
              "        element.innerHTML = '';\n",
              "        dataTable['output_type'] = 'display_data';\n",
              "        await google.colab.output.renderOutput(dataTable, element);\n",
              "        const docLink = document.createElement('div');\n",
              "        docLink.innerHTML = docLinkHtml;\n",
              "        element.appendChild(docLink);\n",
              "      }\n",
              "    </script>\n",
              "  </div>\n",
              "\n",
              "\n",
              "<div id=\"df-c4b4aa21-2bc7-4b57-8cf8-7b204645a341\">\n",
              "  <button class=\"colab-df-quickchart\" onclick=\"quickchart('df-c4b4aa21-2bc7-4b57-8cf8-7b204645a341')\"\n",
              "            title=\"Suggest charts\"\n",
              "            style=\"display:none;\">\n",
              "\n",
              "<svg xmlns=\"http://www.w3.org/2000/svg\" height=\"24px\"viewBox=\"0 0 24 24\"\n",
              "     width=\"24px\">\n",
              "    <g>\n",
              "        <path d=\"M19 3H5c-1.1 0-2 .9-2 2v14c0 1.1.9 2 2 2h14c1.1 0 2-.9 2-2V5c0-1.1-.9-2-2-2zM9 17H7v-7h2v7zm4 0h-2V7h2v10zm4 0h-2v-4h2v4z\"/>\n",
              "    </g>\n",
              "</svg>\n",
              "  </button>\n",
              "\n",
              "<style>\n",
              "  .colab-df-quickchart {\n",
              "      --bg-color: #E8F0FE;\n",
              "      --fill-color: #1967D2;\n",
              "      --hover-bg-color: #E2EBFA;\n",
              "      --hover-fill-color: #174EA6;\n",
              "      --disabled-fill-color: #AAA;\n",
              "      --disabled-bg-color: #DDD;\n",
              "  }\n",
              "\n",
              "  [theme=dark] .colab-df-quickchart {\n",
              "      --bg-color: #3B4455;\n",
              "      --fill-color: #D2E3FC;\n",
              "      --hover-bg-color: #434B5C;\n",
              "      --hover-fill-color: #FFFFFF;\n",
              "      --disabled-bg-color: #3B4455;\n",
              "      --disabled-fill-color: #666;\n",
              "  }\n",
              "\n",
              "  .colab-df-quickchart {\n",
              "    background-color: var(--bg-color);\n",
              "    border: none;\n",
              "    border-radius: 50%;\n",
              "    cursor: pointer;\n",
              "    display: none;\n",
              "    fill: var(--fill-color);\n",
              "    height: 32px;\n",
              "    padding: 0;\n",
              "    width: 32px;\n",
              "  }\n",
              "\n",
              "  .colab-df-quickchart:hover {\n",
              "    background-color: var(--hover-bg-color);\n",
              "    box-shadow: 0 1px 2px rgba(60, 64, 67, 0.3), 0 1px 3px 1px rgba(60, 64, 67, 0.15);\n",
              "    fill: var(--button-hover-fill-color);\n",
              "  }\n",
              "\n",
              "  .colab-df-quickchart-complete:disabled,\n",
              "  .colab-df-quickchart-complete:disabled:hover {\n",
              "    background-color: var(--disabled-bg-color);\n",
              "    fill: var(--disabled-fill-color);\n",
              "    box-shadow: none;\n",
              "  }\n",
              "\n",
              "  .colab-df-spinner {\n",
              "    border: 2px solid var(--fill-color);\n",
              "    border-color: transparent;\n",
              "    border-bottom-color: var(--fill-color);\n",
              "    animation:\n",
              "      spin 1s steps(1) infinite;\n",
              "  }\n",
              "\n",
              "  @keyframes spin {\n",
              "    0% {\n",
              "      border-color: transparent;\n",
              "      border-bottom-color: var(--fill-color);\n",
              "      border-left-color: var(--fill-color);\n",
              "    }\n",
              "    20% {\n",
              "      border-color: transparent;\n",
              "      border-left-color: var(--fill-color);\n",
              "      border-top-color: var(--fill-color);\n",
              "    }\n",
              "    30% {\n",
              "      border-color: transparent;\n",
              "      border-left-color: var(--fill-color);\n",
              "      border-top-color: var(--fill-color);\n",
              "      border-right-color: var(--fill-color);\n",
              "    }\n",
              "    40% {\n",
              "      border-color: transparent;\n",
              "      border-right-color: var(--fill-color);\n",
              "      border-top-color: var(--fill-color);\n",
              "    }\n",
              "    60% {\n",
              "      border-color: transparent;\n",
              "      border-right-color: var(--fill-color);\n",
              "    }\n",
              "    80% {\n",
              "      border-color: transparent;\n",
              "      border-right-color: var(--fill-color);\n",
              "      border-bottom-color: var(--fill-color);\n",
              "    }\n",
              "    90% {\n",
              "      border-color: transparent;\n",
              "      border-bottom-color: var(--fill-color);\n",
              "    }\n",
              "  }\n",
              "</style>\n",
              "\n",
              "  <script>\n",
              "    async function quickchart(key) {\n",
              "      const quickchartButtonEl =\n",
              "        document.querySelector('#' + key + ' button');\n",
              "      quickchartButtonEl.disabled = true;  // To prevent multiple clicks.\n",
              "      quickchartButtonEl.classList.add('colab-df-spinner');\n",
              "      try {\n",
              "        const charts = await google.colab.kernel.invokeFunction(\n",
              "            'suggestCharts', [key], {});\n",
              "      } catch (error) {\n",
              "        console.error('Error during call to suggestCharts:', error);\n",
              "      }\n",
              "      quickchartButtonEl.classList.remove('colab-df-spinner');\n",
              "      quickchartButtonEl.classList.add('colab-df-quickchart-complete');\n",
              "    }\n",
              "    (() => {\n",
              "      let quickchartButtonEl =\n",
              "        document.querySelector('#df-c4b4aa21-2bc7-4b57-8cf8-7b204645a341 button');\n",
              "      quickchartButtonEl.style.display =\n",
              "        google.colab.kernel.accessAllowed ? 'block' : 'none';\n",
              "    })();\n",
              "  </script>\n",
              "</div>\n",
              "\n",
              "    </div>\n",
              "  </div>\n"
            ],
            "application/vnd.google.colaboratory.intrinsic+json": {
              "type": "dataframe",
              "summary": "{\n  \"name\": \"nutri\",\n  \"rows\": 3,\n  \"fields\": [\n    {\n      \"column\": \"gender\",\n      \"properties\": {\n        \"dtype\": \"number\",\n        \"std\": 0,\n        \"min\": 2,\n        \"max\": 2,\n        \"num_unique_values\": 1,\n        \"samples\": [\n          2\n        ],\n        \"semantic_type\": \"\",\n        \"description\": \"\"\n      }\n    },\n    {\n      \"column\": \"situation\",\n      \"properties\": {\n        \"dtype\": \"number\",\n        \"std\": 0,\n        \"min\": 1,\n        \"max\": 1,\n        \"num_unique_values\": 1,\n        \"samples\": [\n          1\n        ],\n        \"semantic_type\": \"\",\n        \"description\": \"\"\n      }\n    },\n    {\n      \"column\": \"tea\",\n      \"properties\": {\n        \"dtype\": \"number\",\n        \"std\": 0,\n        \"min\": 0,\n        \"max\": 1,\n        \"num_unique_values\": 2,\n        \"samples\": [\n          1\n        ],\n        \"semantic_type\": \"\",\n        \"description\": \"\"\n      }\n    },\n    {\n      \"column\": \"coffee\",\n      \"properties\": {\n        \"dtype\": \"number\",\n        \"std\": 2,\n        \"min\": 0,\n        \"max\": 4,\n        \"num_unique_values\": 3,\n        \"samples\": [\n          0\n        ],\n        \"semantic_type\": \"\",\n        \"description\": \"\"\n      }\n    },\n    {\n      \"column\": \"height\",\n      \"properties\": {\n        \"dtype\": \"number\",\n        \"std\": 6,\n        \"min\": 151,\n        \"max\": 162,\n        \"num_unique_values\": 2,\n        \"samples\": [\n          162\n        ],\n        \"semantic_type\": \"\",\n        \"description\": \"\"\n      }\n    },\n    {\n      \"column\": \"weight\",\n      \"properties\": {\n        \"dtype\": \"number\",\n        \"std\": 9,\n        \"min\": 58,\n        \"max\": 75,\n        \"num_unique_values\": 3,\n        \"samples\": [\n          58\n        ],\n        \"semantic_type\": \"\",\n        \"description\": \"\"\n      }\n    },\n    {\n      \"column\": \"age\",\n      \"properties\": {\n        \"dtype\": \"number\",\n        \"std\": 5,\n        \"min\": 68,\n        \"max\": 78,\n        \"num_unique_values\": 3,\n        \"samples\": [\n          72\n        ],\n        \"semantic_type\": \"\",\n        \"description\": \"\"\n      }\n    },\n    {\n      \"column\": \"meat\",\n      \"properties\": {\n        \"dtype\": \"number\",\n        \"std\": 1,\n        \"min\": 3,\n        \"max\": 5,\n        \"num_unique_values\": 3,\n        \"samples\": [\n          4\n        ],\n        \"semantic_type\": \"\",\n        \"description\": \"\"\n      }\n    },\n    {\n      \"column\": \"fish\",\n      \"properties\": {\n        \"dtype\": \"number\",\n        \"std\": 1,\n        \"min\": 1,\n        \"max\": 3,\n        \"num_unique_values\": 3,\n        \"samples\": [\n          3\n        ],\n        \"semantic_type\": \"\",\n        \"description\": \"\"\n      }\n    },\n    {\n      \"column\": \"raw_fruit\",\n      \"properties\": {\n        \"dtype\": \"number\",\n        \"std\": 2,\n        \"min\": 1,\n        \"max\": 5,\n        \"num_unique_values\": 2,\n        \"samples\": [\n          5\n        ],\n        \"semantic_type\": \"\",\n        \"description\": \"\"\n      }\n    },\n    {\n      \"column\": \"cooked_fruit_veg\",\n      \"properties\": {\n        \"dtype\": \"number\",\n        \"std\": 1,\n        \"min\": 2,\n        \"max\": 5,\n        \"num_unique_values\": 3,\n        \"samples\": [\n          4\n        ],\n        \"semantic_type\": \"\",\n        \"description\": \"\"\n      }\n    },\n    {\n      \"column\": \"chocol\",\n      \"properties\": {\n        \"dtype\": \"number\",\n        \"std\": 2,\n        \"min\": 1,\n        \"max\": 5,\n        \"num_unique_values\": 2,\n        \"samples\": [\n          1\n        ],\n        \"semantic_type\": \"\",\n        \"description\": \"\"\n      }\n    },\n    {\n      \"column\": \"fat\",\n      \"properties\": {\n        \"dtype\": \"number\",\n        \"std\": 1,\n        \"min\": 4,\n        \"max\": 6,\n        \"num_unique_values\": 2,\n        \"samples\": [\n          4\n        ],\n        \"semantic_type\": \"\",\n        \"description\": \"\"\n      }\n    }\n  ]\n}"
            }
          },
          "metadata": {},
          "execution_count": 31
        }
      ]
    },
    {
      "cell_type": "markdown",
      "source": [
        "You can check the type (or structure) of the variables via the info method of nutri."
      ],
      "metadata": {
        "id": "iJ1nOP95CPxX"
      }
    },
    {
      "cell_type": "code",
      "source": [
        "nutri.info ()"
      ],
      "metadata": {
        "id": "F5tfL-6SCSBp",
        "colab": {
          "base_uri": "https://localhost:8080/"
        },
        "outputId": "b2667e00-1ba4-47a0-d723-bd58b898636b"
      },
      "execution_count": null,
      "outputs": [
        {
          "output_type": "stream",
          "name": "stdout",
          "text": [
            "<class 'pandas.core.frame.DataFrame'>\n",
            "RangeIndex: 226 entries, 0 to 225\n",
            "Data columns (total 13 columns):\n",
            " #   Column            Non-Null Count  Dtype\n",
            "---  ------            --------------  -----\n",
            " 0   gender            226 non-null    int64\n",
            " 1   situation         226 non-null    int64\n",
            " 2   tea               226 non-null    int64\n",
            " 3   coffee            226 non-null    int64\n",
            " 4   height            226 non-null    int64\n",
            " 5   weight            226 non-null    int64\n",
            " 6   age               226 non-null    int64\n",
            " 7   meat              226 non-null    int64\n",
            " 8   fish              226 non-null    int64\n",
            " 9   raw_fruit         226 non-null    int64\n",
            " 10  cooked_fruit_veg  226 non-null    int64\n",
            " 11  chocol            226 non-null    int64\n",
            " 12  fat               226 non-null    int64\n",
            "dtypes: int64(13)\n",
            "memory usage: 23.1 KB\n"
          ]
        }
      ]
    },
    {
      "cell_type": "markdown",
      "source": [
        "All 13 features in **nutri** are (at the moment) interpreted by Python as *quantitative*\n",
        "variables, indeed as integers, simply because they have been entered as whole numbers."
      ],
      "metadata": {
        "id": "BJUirBVX4pGA"
      }
    },
    {
      "cell_type": "markdown",
      "source": [
        "We can modify the Python value and type for each categorical feature, using the\n",
        "**replace** and **astype** methods. For categorical features, such as gender, we can replace\n",
        "the value 1 with `'Male'` and 2 with `'Female'`, and change the type to `'category'` as\n",
        "follows."
      ],
      "metadata": {
        "id": "5DhfNnpt5Cku"
      }
    },
    {
      "cell_type": "code",
      "source": [
        "DICT = {1:'Male', 2:'Female'} # dictionary specifies replacement\n",
        "nutri['gender'] = nutri['gender']. replace(DICT).astype('category')"
      ],
      "metadata": {
        "id": "9-U0S6qO5O-U"
      },
      "execution_count": null,
      "outputs": []
    },
    {
      "cell_type": "markdown",
      "source": [
        "The structure of the other categorical-type features can be changed in a similar way.\n",
        "Continuous features such as **height** should have type float."
      ],
      "metadata": {
        "id": "Yu5CONO55Tsz"
      }
    },
    {
      "cell_type": "code",
      "source": [
        "nutri['height'] = nutri['height']. astype(float)"
      ],
      "metadata": {
        "id": "fz3UAACM5TYP"
      },
      "execution_count": null,
      "outputs": []
    },
    {
      "cell_type": "markdown",
      "source": [
        "We can repeat this for the other variables and save this modified data\n",
        "frame as a CSV file, by using the **pandas** method` to_csv`."
      ],
      "metadata": {
        "id": "w9oOoI8P5eJ9"
      }
    },
    {
      "cell_type": "code",
      "source": [
        "nutri.to_csv('nutri.csv',index=False)"
      ],
      "metadata": {
        "id": "4BELAMou5TZc"
      },
      "execution_count": null,
      "outputs": []
    },
    {
      "cell_type": "markdown",
      "source": [
        "**1.3 Summary Tables**\n",
        "\n",
        "It is often useful to summarize a large spreadsheet of data in a more condensed form. A\n",
        "table of counts or a table of frequencies makes it easier to gain insight into the underlying\n",
        "distribution of a variable, especially if the data are qualitative. Such tables can be obtained\n",
        "with the methods **describe** and **value_counts**.\n"
      ],
      "metadata": {
        "id": "-lKTintG5qrt"
      }
    },
    {
      "cell_type": "markdown",
      "source": [
        "As a first example, we load the **nutri** DataFrame, which we restructured and saved as `'nutri.csv'`, and then construct a summary for the feature\n",
        "(column) `'fat'`."
      ],
      "metadata": {
        "id": "0fP7vpLy561C"
      }
    },
    {
      "cell_type": "code",
      "source": [
        "nutri = pd.read_csv('nutri.csv')\n",
        "nutri['fat']. describe ()"
      ],
      "metadata": {
        "id": "DDAZYZIS6D68",
        "colab": {
          "base_uri": "https://localhost:8080/",
          "height": 335
        },
        "outputId": "c13595fc-e9c5-4373-8cff-83af3f7962c9"
      },
      "execution_count": null,
      "outputs": [
        {
          "output_type": "execute_result",
          "data": {
            "text/plain": [
              "count    226.000000\n",
              "mean       3.814159\n",
              "std        1.473009\n",
              "min        1.000000\n",
              "25%        3.000000\n",
              "50%        4.000000\n",
              "75%        5.000000\n",
              "max        8.000000\n",
              "Name: fat, dtype: float64"
            ],
            "text/html": [
              "<div>\n",
              "<style scoped>\n",
              "    .dataframe tbody tr th:only-of-type {\n",
              "        vertical-align: middle;\n",
              "    }\n",
              "\n",
              "    .dataframe tbody tr th {\n",
              "        vertical-align: top;\n",
              "    }\n",
              "\n",
              "    .dataframe thead th {\n",
              "        text-align: right;\n",
              "    }\n",
              "</style>\n",
              "<table border=\"1\" class=\"dataframe\">\n",
              "  <thead>\n",
              "    <tr style=\"text-align: right;\">\n",
              "      <th></th>\n",
              "      <th>fat</th>\n",
              "    </tr>\n",
              "  </thead>\n",
              "  <tbody>\n",
              "    <tr>\n",
              "      <th>count</th>\n",
              "      <td>226.000000</td>\n",
              "    </tr>\n",
              "    <tr>\n",
              "      <th>mean</th>\n",
              "      <td>3.814159</td>\n",
              "    </tr>\n",
              "    <tr>\n",
              "      <th>std</th>\n",
              "      <td>1.473009</td>\n",
              "    </tr>\n",
              "    <tr>\n",
              "      <th>min</th>\n",
              "      <td>1.000000</td>\n",
              "    </tr>\n",
              "    <tr>\n",
              "      <th>25%</th>\n",
              "      <td>3.000000</td>\n",
              "    </tr>\n",
              "    <tr>\n",
              "      <th>50%</th>\n",
              "      <td>4.000000</td>\n",
              "    </tr>\n",
              "    <tr>\n",
              "      <th>75%</th>\n",
              "      <td>5.000000</td>\n",
              "    </tr>\n",
              "    <tr>\n",
              "      <th>max</th>\n",
              "      <td>8.000000</td>\n",
              "    </tr>\n",
              "  </tbody>\n",
              "</table>\n",
              "</div><br><label><b>dtype:</b> float64</label>"
            ]
          },
          "metadata": {},
          "execution_count": 36
        }
      ]
    },
    {
      "cell_type": "markdown",
      "source": [
        "We see that there are 8 different types of fat used and that sunflower has the highest\n",
        "count, with 68 out of 226 individuals using this type of cooking fat. The method\n",
        "**value_counts** gives the counts for the different fat types."
      ],
      "metadata": {
        "id": "8-8odPb86I1w"
      }
    },
    {
      "cell_type": "code",
      "source": [
        "nutri['fat']. value_counts ()"
      ],
      "metadata": {
        "id": "S-pe7zVN6K59",
        "colab": {
          "base_uri": "https://localhost:8080/",
          "height": 366
        },
        "outputId": "8c1b9c5e-36ee-4734-a496-e6caf1cadb49"
      },
      "execution_count": null,
      "outputs": [
        {
          "output_type": "execute_result",
          "data": {
            "text/plain": [
              "fat\n",
              "4    68\n",
              "3    48\n",
              "5    40\n",
              "2    27\n",
              "6    23\n",
              "1    15\n",
              "8     4\n",
              "7     1\n",
              "Name: count, dtype: int64"
            ],
            "text/html": [
              "<div>\n",
              "<style scoped>\n",
              "    .dataframe tbody tr th:only-of-type {\n",
              "        vertical-align: middle;\n",
              "    }\n",
              "\n",
              "    .dataframe tbody tr th {\n",
              "        vertical-align: top;\n",
              "    }\n",
              "\n",
              "    .dataframe thead th {\n",
              "        text-align: right;\n",
              "    }\n",
              "</style>\n",
              "<table border=\"1\" class=\"dataframe\">\n",
              "  <thead>\n",
              "    <tr style=\"text-align: right;\">\n",
              "      <th></th>\n",
              "      <th>count</th>\n",
              "    </tr>\n",
              "    <tr>\n",
              "      <th>fat</th>\n",
              "      <th></th>\n",
              "    </tr>\n",
              "  </thead>\n",
              "  <tbody>\n",
              "    <tr>\n",
              "      <th>4</th>\n",
              "      <td>68</td>\n",
              "    </tr>\n",
              "    <tr>\n",
              "      <th>3</th>\n",
              "      <td>48</td>\n",
              "    </tr>\n",
              "    <tr>\n",
              "      <th>5</th>\n",
              "      <td>40</td>\n",
              "    </tr>\n",
              "    <tr>\n",
              "      <th>2</th>\n",
              "      <td>27</td>\n",
              "    </tr>\n",
              "    <tr>\n",
              "      <th>6</th>\n",
              "      <td>23</td>\n",
              "    </tr>\n",
              "    <tr>\n",
              "      <th>1</th>\n",
              "      <td>15</td>\n",
              "    </tr>\n",
              "    <tr>\n",
              "      <th>8</th>\n",
              "      <td>4</td>\n",
              "    </tr>\n",
              "    <tr>\n",
              "      <th>7</th>\n",
              "      <td>1</td>\n",
              "    </tr>\n",
              "  </tbody>\n",
              "</table>\n",
              "</div><br><label><b>dtype:</b> int64</label>"
            ]
          },
          "metadata": {},
          "execution_count": 37
        }
      ]
    },
    {
      "cell_type": "markdown",
      "source": [
        "It is also possible to use **crosstab** to *cross tabulate* between two or more variables,\n",
        "giving a *contingency table*."
      ],
      "metadata": {
        "id": "zrdVmNnT6WHC"
      }
    },
    {
      "cell_type": "code",
      "source": [
        "pd.crosstab (nutri.gender , nutri. situation )"
      ],
      "metadata": {
        "id": "xzxZiO5g6nP2",
        "colab": {
          "base_uri": "https://localhost:8080/",
          "height": 143
        },
        "outputId": "3cb0fa9c-174f-4601-a4f3-0efcefbde7b7"
      },
      "execution_count": null,
      "outputs": [
        {
          "output_type": "execute_result",
          "data": {
            "text/plain": [
              "situation   1   2  3\n",
              "gender              \n",
              "Female     78  56  7\n",
              "Male       20  63  2"
            ],
            "text/html": [
              "\n",
              "  <div id=\"df-e7880022-2afd-4582-9377-9794d036cf8f\" class=\"colab-df-container\">\n",
              "    <div>\n",
              "<style scoped>\n",
              "    .dataframe tbody tr th:only-of-type {\n",
              "        vertical-align: middle;\n",
              "    }\n",
              "\n",
              "    .dataframe tbody tr th {\n",
              "        vertical-align: top;\n",
              "    }\n",
              "\n",
              "    .dataframe thead th {\n",
              "        text-align: right;\n",
              "    }\n",
              "</style>\n",
              "<table border=\"1\" class=\"dataframe\">\n",
              "  <thead>\n",
              "    <tr style=\"text-align: right;\">\n",
              "      <th>situation</th>\n",
              "      <th>1</th>\n",
              "      <th>2</th>\n",
              "      <th>3</th>\n",
              "    </tr>\n",
              "    <tr>\n",
              "      <th>gender</th>\n",
              "      <th></th>\n",
              "      <th></th>\n",
              "      <th></th>\n",
              "    </tr>\n",
              "  </thead>\n",
              "  <tbody>\n",
              "    <tr>\n",
              "      <th>Female</th>\n",
              "      <td>78</td>\n",
              "      <td>56</td>\n",
              "      <td>7</td>\n",
              "    </tr>\n",
              "    <tr>\n",
              "      <th>Male</th>\n",
              "      <td>20</td>\n",
              "      <td>63</td>\n",
              "      <td>2</td>\n",
              "    </tr>\n",
              "  </tbody>\n",
              "</table>\n",
              "</div>\n",
              "    <div class=\"colab-df-buttons\">\n",
              "\n",
              "  <div class=\"colab-df-container\">\n",
              "    <button class=\"colab-df-convert\" onclick=\"convertToInteractive('df-e7880022-2afd-4582-9377-9794d036cf8f')\"\n",
              "            title=\"Convert this dataframe to an interactive table.\"\n",
              "            style=\"display:none;\">\n",
              "\n",
              "  <svg xmlns=\"http://www.w3.org/2000/svg\" height=\"24px\" viewBox=\"0 -960 960 960\">\n",
              "    <path d=\"M120-120v-720h720v720H120Zm60-500h600v-160H180v160Zm220 220h160v-160H400v160Zm0 220h160v-160H400v160ZM180-400h160v-160H180v160Zm440 0h160v-160H620v160ZM180-180h160v-160H180v160Zm440 0h160v-160H620v160Z\"/>\n",
              "  </svg>\n",
              "    </button>\n",
              "\n",
              "  <style>\n",
              "    .colab-df-container {\n",
              "      display:flex;\n",
              "      gap: 12px;\n",
              "    }\n",
              "\n",
              "    .colab-df-convert {\n",
              "      background-color: #E8F0FE;\n",
              "      border: none;\n",
              "      border-radius: 50%;\n",
              "      cursor: pointer;\n",
              "      display: none;\n",
              "      fill: #1967D2;\n",
              "      height: 32px;\n",
              "      padding: 0 0 0 0;\n",
              "      width: 32px;\n",
              "    }\n",
              "\n",
              "    .colab-df-convert:hover {\n",
              "      background-color: #E2EBFA;\n",
              "      box-shadow: 0px 1px 2px rgba(60, 64, 67, 0.3), 0px 1px 3px 1px rgba(60, 64, 67, 0.15);\n",
              "      fill: #174EA6;\n",
              "    }\n",
              "\n",
              "    .colab-df-buttons div {\n",
              "      margin-bottom: 4px;\n",
              "    }\n",
              "\n",
              "    [theme=dark] .colab-df-convert {\n",
              "      background-color: #3B4455;\n",
              "      fill: #D2E3FC;\n",
              "    }\n",
              "\n",
              "    [theme=dark] .colab-df-convert:hover {\n",
              "      background-color: #434B5C;\n",
              "      box-shadow: 0px 1px 3px 1px rgba(0, 0, 0, 0.15);\n",
              "      filter: drop-shadow(0px 1px 2px rgba(0, 0, 0, 0.3));\n",
              "      fill: #FFFFFF;\n",
              "    }\n",
              "  </style>\n",
              "\n",
              "    <script>\n",
              "      const buttonEl =\n",
              "        document.querySelector('#df-e7880022-2afd-4582-9377-9794d036cf8f button.colab-df-convert');\n",
              "      buttonEl.style.display =\n",
              "        google.colab.kernel.accessAllowed ? 'block' : 'none';\n",
              "\n",
              "      async function convertToInteractive(key) {\n",
              "        const element = document.querySelector('#df-e7880022-2afd-4582-9377-9794d036cf8f');\n",
              "        const dataTable =\n",
              "          await google.colab.kernel.invokeFunction('convertToInteractive',\n",
              "                                                    [key], {});\n",
              "        if (!dataTable) return;\n",
              "\n",
              "        const docLinkHtml = 'Like what you see? Visit the ' +\n",
              "          '<a target=\"_blank\" href=https://colab.research.google.com/notebooks/data_table.ipynb>data table notebook</a>'\n",
              "          + ' to learn more about interactive tables.';\n",
              "        element.innerHTML = '';\n",
              "        dataTable['output_type'] = 'display_data';\n",
              "        await google.colab.output.renderOutput(dataTable, element);\n",
              "        const docLink = document.createElement('div');\n",
              "        docLink.innerHTML = docLinkHtml;\n",
              "        element.appendChild(docLink);\n",
              "      }\n",
              "    </script>\n",
              "  </div>\n",
              "\n",
              "\n",
              "<div id=\"df-3700ab86-17f0-4594-9489-2a095157138a\">\n",
              "  <button class=\"colab-df-quickchart\" onclick=\"quickchart('df-3700ab86-17f0-4594-9489-2a095157138a')\"\n",
              "            title=\"Suggest charts\"\n",
              "            style=\"display:none;\">\n",
              "\n",
              "<svg xmlns=\"http://www.w3.org/2000/svg\" height=\"24px\"viewBox=\"0 0 24 24\"\n",
              "     width=\"24px\">\n",
              "    <g>\n",
              "        <path d=\"M19 3H5c-1.1 0-2 .9-2 2v14c0 1.1.9 2 2 2h14c1.1 0 2-.9 2-2V5c0-1.1-.9-2-2-2zM9 17H7v-7h2v7zm4 0h-2V7h2v10zm4 0h-2v-4h2v4z\"/>\n",
              "    </g>\n",
              "</svg>\n",
              "  </button>\n",
              "\n",
              "<style>\n",
              "  .colab-df-quickchart {\n",
              "      --bg-color: #E8F0FE;\n",
              "      --fill-color: #1967D2;\n",
              "      --hover-bg-color: #E2EBFA;\n",
              "      --hover-fill-color: #174EA6;\n",
              "      --disabled-fill-color: #AAA;\n",
              "      --disabled-bg-color: #DDD;\n",
              "  }\n",
              "\n",
              "  [theme=dark] .colab-df-quickchart {\n",
              "      --bg-color: #3B4455;\n",
              "      --fill-color: #D2E3FC;\n",
              "      --hover-bg-color: #434B5C;\n",
              "      --hover-fill-color: #FFFFFF;\n",
              "      --disabled-bg-color: #3B4455;\n",
              "      --disabled-fill-color: #666;\n",
              "  }\n",
              "\n",
              "  .colab-df-quickchart {\n",
              "    background-color: var(--bg-color);\n",
              "    border: none;\n",
              "    border-radius: 50%;\n",
              "    cursor: pointer;\n",
              "    display: none;\n",
              "    fill: var(--fill-color);\n",
              "    height: 32px;\n",
              "    padding: 0;\n",
              "    width: 32px;\n",
              "  }\n",
              "\n",
              "  .colab-df-quickchart:hover {\n",
              "    background-color: var(--hover-bg-color);\n",
              "    box-shadow: 0 1px 2px rgba(60, 64, 67, 0.3), 0 1px 3px 1px rgba(60, 64, 67, 0.15);\n",
              "    fill: var(--button-hover-fill-color);\n",
              "  }\n",
              "\n",
              "  .colab-df-quickchart-complete:disabled,\n",
              "  .colab-df-quickchart-complete:disabled:hover {\n",
              "    background-color: var(--disabled-bg-color);\n",
              "    fill: var(--disabled-fill-color);\n",
              "    box-shadow: none;\n",
              "  }\n",
              "\n",
              "  .colab-df-spinner {\n",
              "    border: 2px solid var(--fill-color);\n",
              "    border-color: transparent;\n",
              "    border-bottom-color: var(--fill-color);\n",
              "    animation:\n",
              "      spin 1s steps(1) infinite;\n",
              "  }\n",
              "\n",
              "  @keyframes spin {\n",
              "    0% {\n",
              "      border-color: transparent;\n",
              "      border-bottom-color: var(--fill-color);\n",
              "      border-left-color: var(--fill-color);\n",
              "    }\n",
              "    20% {\n",
              "      border-color: transparent;\n",
              "      border-left-color: var(--fill-color);\n",
              "      border-top-color: var(--fill-color);\n",
              "    }\n",
              "    30% {\n",
              "      border-color: transparent;\n",
              "      border-left-color: var(--fill-color);\n",
              "      border-top-color: var(--fill-color);\n",
              "      border-right-color: var(--fill-color);\n",
              "    }\n",
              "    40% {\n",
              "      border-color: transparent;\n",
              "      border-right-color: var(--fill-color);\n",
              "      border-top-color: var(--fill-color);\n",
              "    }\n",
              "    60% {\n",
              "      border-color: transparent;\n",
              "      border-right-color: var(--fill-color);\n",
              "    }\n",
              "    80% {\n",
              "      border-color: transparent;\n",
              "      border-right-color: var(--fill-color);\n",
              "      border-bottom-color: var(--fill-color);\n",
              "    }\n",
              "    90% {\n",
              "      border-color: transparent;\n",
              "      border-bottom-color: var(--fill-color);\n",
              "    }\n",
              "  }\n",
              "</style>\n",
              "\n",
              "  <script>\n",
              "    async function quickchart(key) {\n",
              "      const quickchartButtonEl =\n",
              "        document.querySelector('#' + key + ' button');\n",
              "      quickchartButtonEl.disabled = true;  // To prevent multiple clicks.\n",
              "      quickchartButtonEl.classList.add('colab-df-spinner');\n",
              "      try {\n",
              "        const charts = await google.colab.kernel.invokeFunction(\n",
              "            'suggestCharts', [key], {});\n",
              "      } catch (error) {\n",
              "        console.error('Error during call to suggestCharts:', error);\n",
              "      }\n",
              "      quickchartButtonEl.classList.remove('colab-df-spinner');\n",
              "      quickchartButtonEl.classList.add('colab-df-quickchart-complete');\n",
              "    }\n",
              "    (() => {\n",
              "      let quickchartButtonEl =\n",
              "        document.querySelector('#df-3700ab86-17f0-4594-9489-2a095157138a button');\n",
              "      quickchartButtonEl.style.display =\n",
              "        google.colab.kernel.accessAllowed ? 'block' : 'none';\n",
              "    })();\n",
              "  </script>\n",
              "</div>\n",
              "\n",
              "    </div>\n",
              "  </div>\n"
            ],
            "application/vnd.google.colaboratory.intrinsic+json": {
              "type": "dataframe",
              "summary": "{\n  \"name\": \"pd\",\n  \"rows\": 2,\n  \"fields\": [\n    {\n      \"column\": \"gender\",\n      \"properties\": {\n        \"dtype\": \"string\",\n        \"num_unique_values\": 2,\n        \"samples\": [\n          \"Male\",\n          \"Female\"\n        ],\n        \"semantic_type\": \"\",\n        \"description\": \"\"\n      }\n    },\n    {\n      \"column\": 1,\n      \"properties\": {\n        \"dtype\": \"number\",\n        \"std\": 41,\n        \"min\": 20,\n        \"max\": 78,\n        \"num_unique_values\": 2,\n        \"samples\": [\n          20,\n          78\n        ],\n        \"semantic_type\": \"\",\n        \"description\": \"\"\n      }\n    },\n    {\n      \"column\": 2,\n      \"properties\": {\n        \"dtype\": \"number\",\n        \"std\": 4,\n        \"min\": 56,\n        \"max\": 63,\n        \"num_unique_values\": 2,\n        \"samples\": [\n          63,\n          56\n        ],\n        \"semantic_type\": \"\",\n        \"description\": \"\"\n      }\n    },\n    {\n      \"column\": 3,\n      \"properties\": {\n        \"dtype\": \"number\",\n        \"std\": 3,\n        \"min\": 2,\n        \"max\": 7,\n        \"num_unique_values\": 2,\n        \"samples\": [\n          2,\n          7\n        ],\n        \"semantic_type\": \"\",\n        \"description\": \"\"\n      }\n    }\n  ]\n}"
            }
          },
          "metadata": {},
          "execution_count": 38
        }
      ]
    },
    {
      "cell_type": "markdown",
      "source": [
        "We see, for example, that the proportion of single men is substantially smaller than the\n",
        "proportion of single women in the data set of elderly people. To add row and column totals\n",
        "to a table, use `margins=True`."
      ],
      "metadata": {
        "id": "ZUSWMjk9qtoV"
      }
    },
    {
      "cell_type": "code",
      "source": [
        "pd.crosstab (nutri.gender , nutri.situation , margins=True)"
      ],
      "metadata": {
        "colab": {
          "base_uri": "https://localhost:8080/",
          "height": 175
        },
        "id": "qtak_uyVqxad",
        "outputId": "6a56cb39-8f9e-415c-fff9-f592ae47e16d"
      },
      "execution_count": null,
      "outputs": [
        {
          "output_type": "execute_result",
          "data": {
            "text/plain": [
              "situation   1    2  3  All\n",
              "gender                    \n",
              "Female     78   56  7  141\n",
              "Male       20   63  2   85\n",
              "All        98  119  9  226"
            ],
            "text/html": [
              "\n",
              "  <div id=\"df-8fb1562a-d8ae-48ed-8a8d-390cd1ee78b5\" class=\"colab-df-container\">\n",
              "    <div>\n",
              "<style scoped>\n",
              "    .dataframe tbody tr th:only-of-type {\n",
              "        vertical-align: middle;\n",
              "    }\n",
              "\n",
              "    .dataframe tbody tr th {\n",
              "        vertical-align: top;\n",
              "    }\n",
              "\n",
              "    .dataframe thead th {\n",
              "        text-align: right;\n",
              "    }\n",
              "</style>\n",
              "<table border=\"1\" class=\"dataframe\">\n",
              "  <thead>\n",
              "    <tr style=\"text-align: right;\">\n",
              "      <th>situation</th>\n",
              "      <th>1</th>\n",
              "      <th>2</th>\n",
              "      <th>3</th>\n",
              "      <th>All</th>\n",
              "    </tr>\n",
              "    <tr>\n",
              "      <th>gender</th>\n",
              "      <th></th>\n",
              "      <th></th>\n",
              "      <th></th>\n",
              "      <th></th>\n",
              "    </tr>\n",
              "  </thead>\n",
              "  <tbody>\n",
              "    <tr>\n",
              "      <th>Female</th>\n",
              "      <td>78</td>\n",
              "      <td>56</td>\n",
              "      <td>7</td>\n",
              "      <td>141</td>\n",
              "    </tr>\n",
              "    <tr>\n",
              "      <th>Male</th>\n",
              "      <td>20</td>\n",
              "      <td>63</td>\n",
              "      <td>2</td>\n",
              "      <td>85</td>\n",
              "    </tr>\n",
              "    <tr>\n",
              "      <th>All</th>\n",
              "      <td>98</td>\n",
              "      <td>119</td>\n",
              "      <td>9</td>\n",
              "      <td>226</td>\n",
              "    </tr>\n",
              "  </tbody>\n",
              "</table>\n",
              "</div>\n",
              "    <div class=\"colab-df-buttons\">\n",
              "\n",
              "  <div class=\"colab-df-container\">\n",
              "    <button class=\"colab-df-convert\" onclick=\"convertToInteractive('df-8fb1562a-d8ae-48ed-8a8d-390cd1ee78b5')\"\n",
              "            title=\"Convert this dataframe to an interactive table.\"\n",
              "            style=\"display:none;\">\n",
              "\n",
              "  <svg xmlns=\"http://www.w3.org/2000/svg\" height=\"24px\" viewBox=\"0 -960 960 960\">\n",
              "    <path d=\"M120-120v-720h720v720H120Zm60-500h600v-160H180v160Zm220 220h160v-160H400v160Zm0 220h160v-160H400v160ZM180-400h160v-160H180v160Zm440 0h160v-160H620v160ZM180-180h160v-160H180v160Zm440 0h160v-160H620v160Z\"/>\n",
              "  </svg>\n",
              "    </button>\n",
              "\n",
              "  <style>\n",
              "    .colab-df-container {\n",
              "      display:flex;\n",
              "      gap: 12px;\n",
              "    }\n",
              "\n",
              "    .colab-df-convert {\n",
              "      background-color: #E8F0FE;\n",
              "      border: none;\n",
              "      border-radius: 50%;\n",
              "      cursor: pointer;\n",
              "      display: none;\n",
              "      fill: #1967D2;\n",
              "      height: 32px;\n",
              "      padding: 0 0 0 0;\n",
              "      width: 32px;\n",
              "    }\n",
              "\n",
              "    .colab-df-convert:hover {\n",
              "      background-color: #E2EBFA;\n",
              "      box-shadow: 0px 1px 2px rgba(60, 64, 67, 0.3), 0px 1px 3px 1px rgba(60, 64, 67, 0.15);\n",
              "      fill: #174EA6;\n",
              "    }\n",
              "\n",
              "    .colab-df-buttons div {\n",
              "      margin-bottom: 4px;\n",
              "    }\n",
              "\n",
              "    [theme=dark] .colab-df-convert {\n",
              "      background-color: #3B4455;\n",
              "      fill: #D2E3FC;\n",
              "    }\n",
              "\n",
              "    [theme=dark] .colab-df-convert:hover {\n",
              "      background-color: #434B5C;\n",
              "      box-shadow: 0px 1px 3px 1px rgba(0, 0, 0, 0.15);\n",
              "      filter: drop-shadow(0px 1px 2px rgba(0, 0, 0, 0.3));\n",
              "      fill: #FFFFFF;\n",
              "    }\n",
              "  </style>\n",
              "\n",
              "    <script>\n",
              "      const buttonEl =\n",
              "        document.querySelector('#df-8fb1562a-d8ae-48ed-8a8d-390cd1ee78b5 button.colab-df-convert');\n",
              "      buttonEl.style.display =\n",
              "        google.colab.kernel.accessAllowed ? 'block' : 'none';\n",
              "\n",
              "      async function convertToInteractive(key) {\n",
              "        const element = document.querySelector('#df-8fb1562a-d8ae-48ed-8a8d-390cd1ee78b5');\n",
              "        const dataTable =\n",
              "          await google.colab.kernel.invokeFunction('convertToInteractive',\n",
              "                                                    [key], {});\n",
              "        if (!dataTable) return;\n",
              "\n",
              "        const docLinkHtml = 'Like what you see? Visit the ' +\n",
              "          '<a target=\"_blank\" href=https://colab.research.google.com/notebooks/data_table.ipynb>data table notebook</a>'\n",
              "          + ' to learn more about interactive tables.';\n",
              "        element.innerHTML = '';\n",
              "        dataTable['output_type'] = 'display_data';\n",
              "        await google.colab.output.renderOutput(dataTable, element);\n",
              "        const docLink = document.createElement('div');\n",
              "        docLink.innerHTML = docLinkHtml;\n",
              "        element.appendChild(docLink);\n",
              "      }\n",
              "    </script>\n",
              "  </div>\n",
              "\n",
              "\n",
              "<div id=\"df-da974218-e455-499e-acb6-f06298623684\">\n",
              "  <button class=\"colab-df-quickchart\" onclick=\"quickchart('df-da974218-e455-499e-acb6-f06298623684')\"\n",
              "            title=\"Suggest charts\"\n",
              "            style=\"display:none;\">\n",
              "\n",
              "<svg xmlns=\"http://www.w3.org/2000/svg\" height=\"24px\"viewBox=\"0 0 24 24\"\n",
              "     width=\"24px\">\n",
              "    <g>\n",
              "        <path d=\"M19 3H5c-1.1 0-2 .9-2 2v14c0 1.1.9 2 2 2h14c1.1 0 2-.9 2-2V5c0-1.1-.9-2-2-2zM9 17H7v-7h2v7zm4 0h-2V7h2v10zm4 0h-2v-4h2v4z\"/>\n",
              "    </g>\n",
              "</svg>\n",
              "  </button>\n",
              "\n",
              "<style>\n",
              "  .colab-df-quickchart {\n",
              "      --bg-color: #E8F0FE;\n",
              "      --fill-color: #1967D2;\n",
              "      --hover-bg-color: #E2EBFA;\n",
              "      --hover-fill-color: #174EA6;\n",
              "      --disabled-fill-color: #AAA;\n",
              "      --disabled-bg-color: #DDD;\n",
              "  }\n",
              "\n",
              "  [theme=dark] .colab-df-quickchart {\n",
              "      --bg-color: #3B4455;\n",
              "      --fill-color: #D2E3FC;\n",
              "      --hover-bg-color: #434B5C;\n",
              "      --hover-fill-color: #FFFFFF;\n",
              "      --disabled-bg-color: #3B4455;\n",
              "      --disabled-fill-color: #666;\n",
              "  }\n",
              "\n",
              "  .colab-df-quickchart {\n",
              "    background-color: var(--bg-color);\n",
              "    border: none;\n",
              "    border-radius: 50%;\n",
              "    cursor: pointer;\n",
              "    display: none;\n",
              "    fill: var(--fill-color);\n",
              "    height: 32px;\n",
              "    padding: 0;\n",
              "    width: 32px;\n",
              "  }\n",
              "\n",
              "  .colab-df-quickchart:hover {\n",
              "    background-color: var(--hover-bg-color);\n",
              "    box-shadow: 0 1px 2px rgba(60, 64, 67, 0.3), 0 1px 3px 1px rgba(60, 64, 67, 0.15);\n",
              "    fill: var(--button-hover-fill-color);\n",
              "  }\n",
              "\n",
              "  .colab-df-quickchart-complete:disabled,\n",
              "  .colab-df-quickchart-complete:disabled:hover {\n",
              "    background-color: var(--disabled-bg-color);\n",
              "    fill: var(--disabled-fill-color);\n",
              "    box-shadow: none;\n",
              "  }\n",
              "\n",
              "  .colab-df-spinner {\n",
              "    border: 2px solid var(--fill-color);\n",
              "    border-color: transparent;\n",
              "    border-bottom-color: var(--fill-color);\n",
              "    animation:\n",
              "      spin 1s steps(1) infinite;\n",
              "  }\n",
              "\n",
              "  @keyframes spin {\n",
              "    0% {\n",
              "      border-color: transparent;\n",
              "      border-bottom-color: var(--fill-color);\n",
              "      border-left-color: var(--fill-color);\n",
              "    }\n",
              "    20% {\n",
              "      border-color: transparent;\n",
              "      border-left-color: var(--fill-color);\n",
              "      border-top-color: var(--fill-color);\n",
              "    }\n",
              "    30% {\n",
              "      border-color: transparent;\n",
              "      border-left-color: var(--fill-color);\n",
              "      border-top-color: var(--fill-color);\n",
              "      border-right-color: var(--fill-color);\n",
              "    }\n",
              "    40% {\n",
              "      border-color: transparent;\n",
              "      border-right-color: var(--fill-color);\n",
              "      border-top-color: var(--fill-color);\n",
              "    }\n",
              "    60% {\n",
              "      border-color: transparent;\n",
              "      border-right-color: var(--fill-color);\n",
              "    }\n",
              "    80% {\n",
              "      border-color: transparent;\n",
              "      border-right-color: var(--fill-color);\n",
              "      border-bottom-color: var(--fill-color);\n",
              "    }\n",
              "    90% {\n",
              "      border-color: transparent;\n",
              "      border-bottom-color: var(--fill-color);\n",
              "    }\n",
              "  }\n",
              "</style>\n",
              "\n",
              "  <script>\n",
              "    async function quickchart(key) {\n",
              "      const quickchartButtonEl =\n",
              "        document.querySelector('#' + key + ' button');\n",
              "      quickchartButtonEl.disabled = true;  // To prevent multiple clicks.\n",
              "      quickchartButtonEl.classList.add('colab-df-spinner');\n",
              "      try {\n",
              "        const charts = await google.colab.kernel.invokeFunction(\n",
              "            'suggestCharts', [key], {});\n",
              "      } catch (error) {\n",
              "        console.error('Error during call to suggestCharts:', error);\n",
              "      }\n",
              "      quickchartButtonEl.classList.remove('colab-df-spinner');\n",
              "      quickchartButtonEl.classList.add('colab-df-quickchart-complete');\n",
              "    }\n",
              "    (() => {\n",
              "      let quickchartButtonEl =\n",
              "        document.querySelector('#df-da974218-e455-499e-acb6-f06298623684 button');\n",
              "      quickchartButtonEl.style.display =\n",
              "        google.colab.kernel.accessAllowed ? 'block' : 'none';\n",
              "    })();\n",
              "  </script>\n",
              "</div>\n",
              "\n",
              "    </div>\n",
              "  </div>\n"
            ],
            "application/vnd.google.colaboratory.intrinsic+json": {
              "type": "dataframe",
              "summary": "{\n  \"name\": \"pd\",\n  \"rows\": 3,\n  \"fields\": [\n    {\n      \"column\": \"gender\",\n      \"properties\": {\n        \"dtype\": \"string\",\n        \"num_unique_values\": 3,\n        \"samples\": [\n          \"Female\",\n          \"Male\",\n          \"All\"\n        ],\n        \"semantic_type\": \"\",\n        \"description\": \"\"\n      }\n    },\n    {\n      \"column\": 1,\n      \"properties\": {\n        \"dtype\": \"number\",\n        \"std\": 40,\n        \"min\": 20,\n        \"max\": 98,\n        \"num_unique_values\": 3,\n        \"samples\": [\n          78,\n          20,\n          98\n        ],\n        \"semantic_type\": \"\",\n        \"description\": \"\"\n      }\n    },\n    {\n      \"column\": 2,\n      \"properties\": {\n        \"dtype\": \"number\",\n        \"std\": 34,\n        \"min\": 56,\n        \"max\": 119,\n        \"num_unique_values\": 3,\n        \"samples\": [\n          56,\n          63,\n          119\n        ],\n        \"semantic_type\": \"\",\n        \"description\": \"\"\n      }\n    },\n    {\n      \"column\": 3,\n      \"properties\": {\n        \"dtype\": \"number\",\n        \"std\": 3,\n        \"min\": 2,\n        \"max\": 9,\n        \"num_unique_values\": 3,\n        \"samples\": [\n          7,\n          2,\n          9\n        ],\n        \"semantic_type\": \"\",\n        \"description\": \"\"\n      }\n    },\n    {\n      \"column\": \"All\",\n      \"properties\": {\n        \"dtype\": \"number\",\n        \"std\": 70,\n        \"min\": 85,\n        \"max\": 226,\n        \"num_unique_values\": 3,\n        \"samples\": [\n          141,\n          85,\n          226\n        ],\n        \"semantic_type\": \"\",\n        \"description\": \"\"\n      }\n    }\n  ]\n}"
            }
          },
          "metadata": {},
          "execution_count": 39
        }
      ]
    },
    {
      "cell_type": "markdown",
      "source": [
        "**1.4 Summary Statistics**\n",
        "\n",
        "In the following, ${x} = \\begin{bmatrix} x_1, \\dots, x_n \\end{bmatrix}^\\top$ is a column vector of n numbers. For our nutri data, the ${x}$ could, for example, correspond to the heights of the *n* = 226 individuals.\n",
        "\n",
        "The sample mean of ${x}$, denoted by $\\bar{x}$, is simply the average of the data values: $$\\bar{x} = \\frac{1}{n} \\sum_{i=1}^{n} x_i$$\n",
        "\n"
      ],
      "metadata": {
        "id": "WaaVwMqvq25c"
      }
    },
    {
      "cell_type": "markdown",
      "source": [
        "Using the **mean** method in Python for the **nutri** data, we have, for instance:"
      ],
      "metadata": {
        "id": "SqJkU5Phv8Lo"
      }
    },
    {
      "cell_type": "code",
      "source": [
        "nutri['height']. mean ()"
      ],
      "metadata": {
        "colab": {
          "base_uri": "https://localhost:8080/"
        },
        "id": "6SRAwiS7wAR7",
        "outputId": "03c7e31e-8463-4924-8815-37bec76ff01f"
      },
      "execution_count": null,
      "outputs": [
        {
          "output_type": "execute_result",
          "data": {
            "text/plain": [
              "163.96017699115043"
            ]
          },
          "metadata": {},
          "execution_count": 40
        }
      ]
    },
    {
      "cell_type": "markdown",
      "source": [
        "The *p-sample quantile* (0 < *p* < 1) of ${x}$ is a value ${x}$ such that at least a fraction p of the data is less than or equal to ${x}$ and at least a fraction 1 − *p* of the data is greater than or equal\n",
        "to ${x}$. The *sample median* is the sample 0.5-quantile. The *p-sample quantile* is also called the 100 × *p percentile*. The 25, 50, and 75 sample percentiles are called the first, second,\n",
        "and third *quartiles* of the data. For the **nutri** data they are obtained as follows."
      ],
      "metadata": {
        "id": "eInpcURuwGDM"
      }
    },
    {
      "cell_type": "code",
      "source": [
        "nutri['height']. quantile (q=[0.25 ,0.5 ,0.75])"
      ],
      "metadata": {
        "colab": {
          "base_uri": "https://localhost:8080/",
          "height": 178
        },
        "id": "WhOnVPLIwyaL",
        "outputId": "0f784202-c90d-4659-d3c6-a25f4ec106b8"
      },
      "execution_count": null,
      "outputs": [
        {
          "output_type": "execute_result",
          "data": {
            "text/plain": [
              "0.25    157.0\n",
              "0.50    163.0\n",
              "0.75    170.0\n",
              "Name: height, dtype: float64"
            ],
            "text/html": [
              "<div>\n",
              "<style scoped>\n",
              "    .dataframe tbody tr th:only-of-type {\n",
              "        vertical-align: middle;\n",
              "    }\n",
              "\n",
              "    .dataframe tbody tr th {\n",
              "        vertical-align: top;\n",
              "    }\n",
              "\n",
              "    .dataframe thead th {\n",
              "        text-align: right;\n",
              "    }\n",
              "</style>\n",
              "<table border=\"1\" class=\"dataframe\">\n",
              "  <thead>\n",
              "    <tr style=\"text-align: right;\">\n",
              "      <th></th>\n",
              "      <th>height</th>\n",
              "    </tr>\n",
              "  </thead>\n",
              "  <tbody>\n",
              "    <tr>\n",
              "      <th>0.25</th>\n",
              "      <td>157.0</td>\n",
              "    </tr>\n",
              "    <tr>\n",
              "      <th>0.50</th>\n",
              "      <td>163.0</td>\n",
              "    </tr>\n",
              "    <tr>\n",
              "      <th>0.75</th>\n",
              "      <td>170.0</td>\n",
              "    </tr>\n",
              "  </tbody>\n",
              "</table>\n",
              "</div><br><label><b>dtype:</b> float64</label>"
            ]
          },
          "metadata": {},
          "execution_count": 41
        }
      ]
    },
    {
      "cell_type": "markdown",
      "source": [
        "The sample mean and median give information about the *location* of the data, while the\n",
        "distance between sample quantiles (say the 0.1 and 0.9 quantiles) gives some indication of\n",
        "the *dispersion* (spread) of the data. Other measures for dispersion are the *sample range*,\n",
        "${max}_i x_i - {min}_i x_i$\n",
        ", *the sample variance* $$s^2 = \\frac{1}{n-1} \\sum_{i=1}^{n} \\left( x_i - \\bar{x} \\right)^2$$\n",
        "and the sample standard deviation $s = \\sqrt{s^2}$\n",
        ". For the nutri data, the range (in cm) is:"
      ],
      "metadata": {
        "id": "Z_asB-AQw5jC"
      }
    },
    {
      "cell_type": "code",
      "source": [
        "nutri['height'].max() - nutri['height'].min()"
      ],
      "metadata": {
        "colab": {
          "base_uri": "https://localhost:8080/"
        },
        "id": "xGHqEo8QxohC",
        "outputId": "660e03b2-883c-4114-8186-aa37a4cbf164"
      },
      "execution_count": null,
      "outputs": [
        {
          "output_type": "execute_result",
          "data": {
            "text/plain": [
              "48.0"
            ]
          },
          "metadata": {},
          "execution_count": 42
        }
      ]
    },
    {
      "cell_type": "markdown",
      "source": [
        "The variance (in cm²) is:"
      ],
      "metadata": {
        "id": "W29njqKOxw6F"
      }
    },
    {
      "cell_type": "code",
      "source": [
        "round(nutri['height']. var (), 2) # round to two decimal places"
      ],
      "metadata": {
        "colab": {
          "base_uri": "https://localhost:8080/"
        },
        "id": "0BW-bwNyxzWV",
        "outputId": "1258106d-2a9d-4415-fc14-fe3cee68355a"
      },
      "execution_count": null,
      "outputs": [
        {
          "output_type": "execute_result",
          "data": {
            "text/plain": [
              "81.06"
            ]
          },
          "metadata": {},
          "execution_count": 43
        }
      ]
    },
    {
      "cell_type": "markdown",
      "source": [
        "And the standard deviation can be found via:"
      ],
      "metadata": {
        "id": "hfaUAdAhx2rE"
      }
    },
    {
      "cell_type": "code",
      "source": [
        "round(nutri['height']. std (), 2)"
      ],
      "metadata": {
        "colab": {
          "base_uri": "https://localhost:8080/"
        },
        "id": "4M6Bbxhyx3-m",
        "outputId": "556b7e84-ba1d-4aa8-edf9-dac8394f1f1d"
      },
      "execution_count": null,
      "outputs": [
        {
          "output_type": "execute_result",
          "data": {
            "text/plain": [
              "9.0"
            ]
          },
          "metadata": {},
          "execution_count": 44
        }
      ]
    },
    {
      "cell_type": "markdown",
      "source": [
        "We already encountered the **describe** method in the previous section for summarizing\n",
        "qualitative features, via the most frequent count and the number of unique elements. When\n",
        "applied to a *quantitative* feature, it returns instead the minimum, maximum, mean, and the\n",
        "three quartiles. For example, the `'height'` feature in the **nutri** data has the following\n",
        "summary statistics.\n"
      ],
      "metadata": {
        "id": "fIJql26jykFf"
      }
    },
    {
      "cell_type": "code",
      "source": [
        "nutri['height']. describe ()"
      ],
      "metadata": {
        "colab": {
          "base_uri": "https://localhost:8080/",
          "height": 335
        },
        "id": "HEUNyDw4yrnI",
        "outputId": "8b1698b3-550a-4d70-b8f8-d28ec3ef583a"
      },
      "execution_count": null,
      "outputs": [
        {
          "output_type": "execute_result",
          "data": {
            "text/plain": [
              "count    226.000000\n",
              "mean     163.960177\n",
              "std        9.003368\n",
              "min      140.000000\n",
              "25%      157.000000\n",
              "50%      163.000000\n",
              "75%      170.000000\n",
              "max      188.000000\n",
              "Name: height, dtype: float64"
            ],
            "text/html": [
              "<div>\n",
              "<style scoped>\n",
              "    .dataframe tbody tr th:only-of-type {\n",
              "        vertical-align: middle;\n",
              "    }\n",
              "\n",
              "    .dataframe tbody tr th {\n",
              "        vertical-align: top;\n",
              "    }\n",
              "\n",
              "    .dataframe thead th {\n",
              "        text-align: right;\n",
              "    }\n",
              "</style>\n",
              "<table border=\"1\" class=\"dataframe\">\n",
              "  <thead>\n",
              "    <tr style=\"text-align: right;\">\n",
              "      <th></th>\n",
              "      <th>height</th>\n",
              "    </tr>\n",
              "  </thead>\n",
              "  <tbody>\n",
              "    <tr>\n",
              "      <th>count</th>\n",
              "      <td>226.000000</td>\n",
              "    </tr>\n",
              "    <tr>\n",
              "      <th>mean</th>\n",
              "      <td>163.960177</td>\n",
              "    </tr>\n",
              "    <tr>\n",
              "      <th>std</th>\n",
              "      <td>9.003368</td>\n",
              "    </tr>\n",
              "    <tr>\n",
              "      <th>min</th>\n",
              "      <td>140.000000</td>\n",
              "    </tr>\n",
              "    <tr>\n",
              "      <th>25%</th>\n",
              "      <td>157.000000</td>\n",
              "    </tr>\n",
              "    <tr>\n",
              "      <th>50%</th>\n",
              "      <td>163.000000</td>\n",
              "    </tr>\n",
              "    <tr>\n",
              "      <th>75%</th>\n",
              "      <td>170.000000</td>\n",
              "    </tr>\n",
              "    <tr>\n",
              "      <th>max</th>\n",
              "      <td>188.000000</td>\n",
              "    </tr>\n",
              "  </tbody>\n",
              "</table>\n",
              "</div><br><label><b>dtype:</b> float64</label>"
            ]
          },
          "metadata": {},
          "execution_count": 45
        }
      ]
    },
    {
      "cell_type": "markdown",
      "source": [
        "**1.5 Visualizing Data**\n",
        "\n",
        "In this section we describe various methods for visualizing data. The main point we would\n",
        "like to make is that the way in which variables are visualized should always be adapted to\n",
        "the variable types; for example, qualitative data should be plotted differently from quantitative data"
      ],
      "metadata": {
        "id": "Q5s6KSSPyx6U"
      }
    },
    {
      "cell_type": "markdown",
      "source": [
        "For the rest of this section, it is assumed that **matplotlib.pyplot, pandas**, and\n",
        "**numpy**, have been imported in the Python code as follows."
      ],
      "metadata": {
        "id": "mw_m7w5XzMSe"
      }
    },
    {
      "cell_type": "code",
      "source": [
        "import matplotlib.pyplot as plt\n",
        "import pandas as pd\n",
        "import numpy as np"
      ],
      "metadata": {
        "id": "mfkUPflvzUlZ"
      },
      "execution_count": null,
      "outputs": []
    },
    {
      "cell_type": "markdown",
      "source": [
        "***1.5.1 Plotting Qualitative Variables***\n",
        "\n",
        "Suppose we wish to display graphically how many elderly people are living by themselves,\n",
        "as a couple, with family, or other. Recall that the data are given in the situation column\n",
        "of our **nutri** data. Assuming that we already *restructured the data*, as in Section 1.2, we can make a *barplot* of the number of people in each category via the plt.bar function of the standard matplotlib plotting library. The inputs are the x-axis positions, heights, and\n",
        "widths of each bar respectively.\n"
      ],
      "metadata": {
        "id": "_4OMZ1qR2opS"
      }
    },
    {
      "cell_type": "code",
      "source": [
        "width = 0.35 # the width of the bars\n",
        "x = [0, 0.8, 1.6] # the bar positions on x-axis\n",
        "situation_counts =nutri['situation']. value_counts ()\n",
        "plt.bar(x, situation_counts , width , edgecolor = 'black')\n",
        "plt.xticks(x, ['Couple', 'Single', 'Family'])\n",
        "plt.show ()"
      ],
      "metadata": {
        "colab": {
          "base_uri": "https://localhost:8080/",
          "height": 430
        },
        "id": "I8sVRgd73RKW",
        "outputId": "d814fc50-f67e-4004-d9d0-0cbd8d9dae9d"
      },
      "execution_count": null,
      "outputs": [
        {
          "output_type": "display_data",
          "data": {
            "text/plain": [
              "<Figure size 640x480 with 1 Axes>"
            ],
            "image/png": "[encoded data removed]"
          },
          "metadata": {}
        }
      ]
    },
    {
      "cell_type": "markdown",
      "source": [
        "***1.5.2 Plotting Quantitative Variables***\n",
        "\n",
        "We now present a few useful methods for visualizing quantitative data, again using the\n",
        "**nutri** data set. We will first focus on continuous features (e.g., `'age'`) and then add some\n",
        "specific graphs related to discrete features (e.g., `'tea'`). The aim is to describe the variability present in a single feature. This typically involves a central tendency, where observations tend to gather around, with fewer observations further away. The main aspects of the\n",
        "distribution are the *location* (or center) of the variability, the *spread* of the variability (how\n",
        "far the values extend from the center), and the *shape* of the variability; e.g., whether or not\n",
        "values are spread symmetrically on either side of the center."
      ],
      "metadata": {
        "id": "Xkea-o6_4c8d"
      }
    },
    {
      "cell_type": "markdown",
      "source": [
        "*1.5.2.1 Boxplot*\n",
        "\n",
        "A *boxplot* can be viewed as a graphical representation of the five-number summary of\n",
        "boxplot\n",
        "the data consisting of the minimum, maximum, and the first, second, and third quartiles."
      ],
      "metadata": {
        "id": "R7Yw6UFo4zpl"
      }
    },
    {
      "cell_type": "code",
      "source": [
        "plt.boxplot(nutri['age'],widths=width ,vert=False)\n",
        "plt.xlabel('age')\n",
        "plt.show ()"
      ],
      "metadata": {
        "colab": {
          "base_uri": "https://localhost:8080/",
          "height": 449
        },
        "id": "28KOO0VR5BzX",
        "outputId": "dc57f87a-3691-49a3-fbd9-7195d8f8db73"
      },
      "execution_count": null,
      "outputs": [
        {
          "output_type": "display_data",
          "data": {
            "text/plain": [
              "<Figure size 640x480 with 1 Axes>"
            ],
            "image/png": "[encoded data removed]"
          },
          "metadata": {}
        }
      ]
    },
    {
      "cell_type": "markdown",
      "source": [
        "The widths parameter determines the width of the boxplot, which is by default plotted\n",
        "vertically. Setting `vert=False` plots the boxplot horizontally."
      ],
      "metadata": {
        "id": "vRPopvd75HlP"
      }
    },
    {
      "cell_type": "markdown",
      "source": [
        "The box is drawn from the first quartile ($Q_1$) to the third quartile ($Q_3$). The vertical line\n",
        "inside the box signifies the location of the median. So-called “whiskers” extend to either\n",
        "side of the box. The size of the box is called the $\\text{Interquartile Range: } IQR = Q_3 - Q_1$. The\n",
        "left whisker extends to the largest of (a) the minimum of the data and (b) $Q_1 - 1.5 \\times IQR$.\n",
        "Similarly, the right whisker extends to the smallest of (a) the maximum of the data and\n",
        "(b) $Q_3 + 1.5 \\times IQR$. Any data point outside the whiskers is indicated by a small hollow dot,\n",
        "indicating a suspicious or deviant point (outlier). Note that a boxplot may also be used for\n",
        "discrete quantitative features."
      ],
      "metadata": {
        "id": "TrdKguiq5LQW"
      }
    },
    {
      "cell_type": "markdown",
      "source": [
        "*1.5.2.2 Histogram*\n",
        "\n",
        "A *histogram* is a common graphical representation of the distribution of a quantitative\n",
        "feature. We start by breaking the range of the values into a number of *bins* or *classes*.\n",
        "We tally the counts of the values falling in each bin and then make the plot by drawing\n",
        "rectangles whose bases are the bin intervals and whose heights are the counts. In Python\n",
        "we can use the function **plt.hist**."
      ],
      "metadata": {
        "id": "31LCVYnJOgJC"
      }
    },
    {
      "cell_type": "code",
      "source": [
        "weights = np.ones_like (nutri.age)/nutri.age.count ()\n",
        "plt.hist(nutri.age ,bins =9, weights=weights , facecolor ='cyan',\n",
        "edgecolor ='black', linewidth =1)\n",
        "plt.xlabel('age')\n",
        "plt.ylabel('Proportion of Total')\n",
        "plt.show ()"
      ],
      "metadata": {
        "colab": {
          "base_uri": "https://localhost:8080/",
          "height": 449
        },
        "id": "XAjF7i30Ox5Y",
        "outputId": "edb23116-ae16-4cfb-bd21-96571d1f5fdc"
      },
      "execution_count": null,
      "outputs": [
        {
          "output_type": "display_data",
          "data": {
            "text/plain": [
              "<Figure size 640x480 with 1 Axes>"
            ],
            "image/png": "[encoded data removed]"
          },
          "metadata": {}
        }
      ]
    },
    {
      "cell_type": "markdown",
      "source": [
        "Here 9 bins were used. Rather than using raw counts (the default), the vertical axis\n",
        "here gives the percentage in each class, defined by $\\frac{\\text{count}}{\\text{total}}$. This is achieved by choosing the\n",
        "“weights” parameter to be equal to the vector with entries 1/266, with length 226. Various\n",
        "plotting parameters have also been changed."
      ],
      "metadata": {
        "id": "vLUR6TfwPfPO"
      }
    },
    {
      "cell_type": "markdown",
      "source": [
        "Histograms can also be used for discrete features, although it may be necessary to\n",
        "explicitly specify the bins and placement of the ticks on the axes."
      ],
      "metadata": {
        "id": "iQR4bZLbPmOz"
      }
    },
    {
      "cell_type": "markdown",
      "source": [
        "*1.5.2.3 Empirical Cumulative Distribution Function*\n",
        "\n",
        "The *empirical cumulative distribution function*, denoted by $F_n$, is a step function which jumps an amount $k/n$ at observation values, where $k$ is the number of tied observations at that value. For observations $x_1, \\ldots, x_n$, $F_n(x)$ is the fraction of observations less than or equal to $x$, i.e.,\n",
        "\n",
        "$$\n",
        "F_n(x) = \\frac{\\text{number of } x_i \\leq x}{n} = \\frac{1}{n} \\sum_{i=1}^{n} \\mathbf{1} \\{x_i \\leq x\\},\n",
        "$$\n",
        "\n",
        "where $\\mathbf{1}$ denotes the indicator function; that is, $\\mathbf{1} \\{x_i \\leq x\\}$ is equal to 1 when $x_i \\leq x$ and 0 otherwise. To produce a plot of the empirical cumulative distribution function we can use the **plt.step** function."
      ],
      "metadata": {
        "id": "yOhmK-fqPuWi"
      }
    },
    {
      "cell_type": "code",
      "source": [
        "x = np.sort(nutri.age)\n",
        "y = np.linspace (0,1,len(nutri.age))\n",
        "plt.xlabel('age')\n",
        "plt.ylabel('Fn(x)')\n",
        "plt.step(x,y)\n",
        "plt.xlim(x.min(),x.max())\n",
        "plt.show ()"
      ],
      "metadata": {
        "colab": {
          "base_uri": "https://localhost:8080/",
          "height": 449
        },
        "id": "kxm4Yo-JQhkC",
        "outputId": "1f723b5a-0956-47ed-9e61-6dcbdc91f178"
      },
      "execution_count": null,
      "outputs": [
        {
          "output_type": "display_data",
          "data": {
            "text/plain": [
              "<Figure size 640x480 with 1 Axes>"
            ],
            "image/png": "[encoded data removed]"
          },
          "metadata": {}
        }
      ]
    },
    {
      "cell_type": "markdown",
      "source": [
        "***1.5.3 Data Visualization in a Bivariate Setting***\n",
        "\n",
        "In this section, we present a few useful visual aids to explore relationships between two\n",
        "features. The graphical representation will depend on the type of the two features."
      ],
      "metadata": {
        "id": "1LN8rbKysOkD"
      }
    },
    {
      "cell_type": "markdown",
      "source": [
        "*1.5.3.1 Two-way Plots for Two Categorical Variables*\n",
        "\n",
        "Comparing barplots for two categorical variables involves introducing subplots to the figure."
      ],
      "metadata": {
        "id": "odgHnt1GsaCu"
      }
    },
    {
      "cell_type": "code",
      "source": [
        "import seaborn as sns\n",
        "sns. countplot (x='situation', hue = 'gender', data=nutri ,\n",
        "hue_order = ['Male', 'Female'], palette = ['SkyBlue','Pink'],\n",
        "saturation = 1, edgecolor ='black')\n",
        "plt.legend(loc='upper center')\n",
        "plt.xlabel('')\n",
        "plt.ylabel('Counts')\n",
        "plt.show ()"
      ],
      "metadata": {
        "colab": {
          "base_uri": "https://localhost:8080/",
          "height": 430
        },
        "id": "KC63ybKDsmFZ",
        "outputId": "8822a226-f5be-484f-fc1f-10b12495bf57"
      },
      "execution_count": null,
      "outputs": [
        {
          "output_type": "display_data",
          "data": {
            "text/plain": [
              "<Figure size 640x480 with 1 Axes>"
            ],
            "image/png": "[encoded data removed]"
          },
          "metadata": {}
        }
      ]
    },
    {
      "cell_type": "markdown",
      "source": [
        "The figure was made using the **seaborn** package, which was specifically designed to\n",
        "simplify statistical visualization tasks.\n"
      ],
      "metadata": {
        "id": "MPUGSrb01mtU"
      }
    },
    {
      "cell_type": "markdown",
      "source": [
        "*1.5.3.2 Plots for Two Quantitative Variables*\n",
        "\n",
        "We can visualize patterns between two quantitative features using a *scatterplot*. This can be\n",
        "done with **plt.scatter**. The following code produces a scatterplot of `'weight'` against\n",
        "`'height'` for the **nutri** data."
      ],
      "metadata": {
        "id": "Z5oiphVx1qUq"
      }
    },
    {
      "cell_type": "code",
      "source": [
        "plt.scatter(nutri.height , nutri.weight , s=12, marker='o')\n",
        "plt.xlabel('height')\n",
        "plt.ylabel('weight')\n",
        "plt.show ()"
      ],
      "metadata": {
        "colab": {
          "base_uri": "https://localhost:8080/",
          "height": 449
        },
        "id": "kjT5RiH9111d",
        "outputId": "1a4ba27d-927a-41d9-8cc5-444e0d8a0387"
      },
      "execution_count": null,
      "outputs": [
        {
          "output_type": "display_data",
          "data": {
            "text/plain": [
              "<Figure size 640x480 with 1 Axes>"
            ],
            "image/png": "[encoded data removed]"
          },
          "metadata": {}
        }
      ]
    },
    {
      "cell_type": "markdown",
      "source": [
        "The next Python code illustrates that it is possible to produce highly sophisticated scater plots. The figure shows the birth weights (mass) of babies whose\n",
        "mothers smoked (blue triangles) or not (red circles). In addition, straight lines were fitted to\n",
        "the two groups, suggesting that birth weight decreases with age when the mother smokes,\n",
        "but increases when the mother does not smoke! The question is whether these trends are\n",
        "statistically significant or due to chance. We will revisit this data set later on in the book."
      ],
      "metadata": {
        "id": "aZ0KQlhx1-vB"
      }
    },
    {
      "cell_type": "code",
      "source": [
        "urlprefix = 'https://vincentarelbundock.github.io/Rdatasets/csv/'\n",
        "dataname = 'MASS/birthwt.csv'\n",
        "bwt = pd.read_csv( urlprefix + dataname)\n",
        "bwt = bwt.reset_index(drop=True)\n",
        "bwt = bwt.set_index('rownames')\n",
        "styles = {0: ['o','red'], 1: ['^','blue']}\n",
        "for k in styles:\n",
        "  grp = bwt[bwt.smoke ==k]\n",
        "  m,b = np.polyfit(grp.age , grp.bwt , 1) # fit a straight line\n",
        "  plt.scatter(grp.age , grp.bwt , c=styles[k][1] , s=15, linewidth =0,\n",
        "              marker = styles[k][0])\n",
        "  plt.plot(grp.age , m*grp.age + b, '-', color=styles[k][1])\n",
        "\n",
        "plt.xlabel('age')\n",
        "plt.ylabel('birth weight (g)')\n",
        "plt.legend (['non-smokers','smokers'],prop ={'size':8},\n",
        "loc =(0.5 ,0.8))\n",
        "plt.show ()"
      ],
      "metadata": {
        "colab": {
          "base_uri": "https://localhost:8080/",
          "height": 449
        },
        "id": "G7QVZFNe2Dud",
        "outputId": "6e1f870e-b158-4f18-a868-b042a0c88683"
      },
      "execution_count": null,
      "outputs": [
        {
          "output_type": "display_data",
          "data": {
            "text/plain": [
              "<Figure size 640x480 with 1 Axes>"
            ],
            "image/png": "[encoded data removed]"
          },
          "metadata": {}
        }
      ]
    },
    {
      "cell_type": "markdown",
      "source": [
        "*1.5.3.3 Plots for One Qualitative and One Quantitative Variable*\n",
        "\n",
        "In this setting, it is interesting to draw boxplots of the quantitative feature for each level\n",
        "of the categorical feature."
      ],
      "metadata": {
        "id": "9h2iVmoS2r3n"
      }
    },
    {
      "cell_type": "code",
      "source": [
        "males = nutri[nutri.gender == 'Male']\n",
        "females = nutri[nutri.gender == 'Female']\n",
        "plt.boxplot ([ males.coffee ,females.coffee],notch=True ,widths\n",
        "=(0.5 ,0.5))\n",
        "plt.xlabel('gender')\n",
        "plt.ylabel('coffee')\n",
        "plt.xticks ([1 ,2] ,['Male','Female'])\n",
        "plt.show ()"
      ],
      "metadata": {
        "colab": {
          "base_uri": "https://localhost:8080/",
          "height": 449
        },
        "id": "VnQjzRM-3GFr",
        "outputId": "4f2b8532-03a5-4ba7-db97-5ccfda602b41"
      },
      "execution_count": null,
      "outputs": [
        {
          "output_type": "display_data",
          "data": {
            "text/plain": [
              "<Figure size 640x480 with 1 Axes>"
            ],
            "image/png": "[encoded data removed]"
          },
          "metadata": {}
        }
      ]
    }
  ]
}